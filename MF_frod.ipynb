{
 "cells": [
  {
   "attachments": {},
   "cell_type": "markdown",
   "metadata": {},
   "source": [
    "ОТЧЁТ ПО ТРАФИКУ МЕГАФОН"
   ]
  },
  {
   "attachments": {},
   "cell_type": "markdown",
   "metadata": {},
   "source": [
    "установка внешних библиотек"
   ]
  },
  {
   "cell_type": "code",
   "execution_count": 41,
   "metadata": {},
   "outputs": [
    {
     "name": "stdout",
     "output_type": "stream",
     "text": [
      "Requirement already satisfied: xlwt in c:\\dev\\python3\\lib\\site-packages (1.3.0)\n",
      "Note: you may need to restart the kernel to use updated packages.\n"
     ]
    },
    {
     "name": "stderr",
     "output_type": "stream",
     "text": [
      "\n",
      "[notice] A new release of pip is available: 24.0 -> 24.2\n",
      "[notice] To update, run: python.exe -m pip install --upgrade pip\n"
     ]
    }
   ],
   "source": [
    "pip install xlwt"
   ]
  },
  {
   "cell_type": "code",
   "execution_count": 42,
   "metadata": {},
   "outputs": [
    {
     "name": "stdout",
     "output_type": "stream",
     "text": [
      "Requirement already satisfied: pyinstaller in c:\\dev\\python3\\lib\\site-packages (6.10.0)\n",
      "Requirement already satisfied: setuptools>=42.0.0 in c:\\dev\\python3\\lib\\site-packages (from pyinstaller) (72.2.0)\n",
      "Requirement already satisfied: altgraph in c:\\dev\\python3\\lib\\site-packages (from pyinstaller) (0.17.4)\n",
      "Requirement already satisfied: pyinstaller-hooks-contrib>=2024.8 in c:\\dev\\python3\\lib\\site-packages (from pyinstaller) (2024.8)\n",
      "Requirement already satisfied: packaging>=22.0 in c:\\users\\lones\\appdata\\roaming\\python\\python312\\site-packages (from pyinstaller) (24.1)\n",
      "Requirement already satisfied: pefile>=2022.5.30 in c:\\dev\\python3\\lib\\site-packages (from pyinstaller) (2023.2.7)\n",
      "Requirement already satisfied: pywin32-ctypes>=0.2.1 in c:\\dev\\python3\\lib\\site-packages (from pyinstaller) (0.2.3)\n",
      "Note: you may need to restart the kernel to use updated packages.\n"
     ]
    },
    {
     "name": "stderr",
     "output_type": "stream",
     "text": [
      "\n",
      "[notice] A new release of pip is available: 24.0 -> 24.2\n",
      "[notice] To update, run: python.exe -m pip install --upgrade pip\n"
     ]
    }
   ],
   "source": [
    "pip install pyinstaller"
   ]
  },
  {
   "cell_type": "code",
   "execution_count": 43,
   "metadata": {},
   "outputs": [
    {
     "name": "stdout",
     "output_type": "stream",
     "text": [
      "Requirement already satisfied: xlrd in c:\\dev\\python3\\lib\\site-packages (2.0.1)\n",
      "Note: you may need to restart the kernel to use updated packages.\n"
     ]
    },
    {
     "name": "stderr",
     "output_type": "stream",
     "text": [
      "\n",
      "[notice] A new release of pip is available: 24.0 -> 24.2\n",
      "[notice] To update, run: python.exe -m pip install --upgrade pip\n"
     ]
    }
   ],
   "source": [
    "pip install xlrd"
   ]
  },
  {
   "cell_type": "code",
   "execution_count": 44,
   "metadata": {},
   "outputs": [
    {
     "name": "stdout",
     "output_type": "stream",
     "text": [
      "Requirement already satisfied: XlsxWriter in c:\\dev\\python3\\lib\\site-packages (3.2.0)\n",
      "Note: you may need to restart the kernel to use updated packages.\n"
     ]
    },
    {
     "name": "stderr",
     "output_type": "stream",
     "text": [
      "\n",
      "[notice] A new release of pip is available: 24.0 -> 24.2\n",
      "[notice] To update, run: python.exe -m pip install --upgrade pip\n"
     ]
    }
   ],
   "source": [
    "pip install XlsxWriter"
   ]
  },
  {
   "cell_type": "code",
   "execution_count": 45,
   "metadata": {},
   "outputs": [
    {
     "name": "stdout",
     "output_type": "stream",
     "text": [
      "Requirement already satisfied: openpyxl in c:\\dev\\python3\\lib\\site-packages (3.1.5)\n",
      "Requirement already satisfied: et-xmlfile in c:\\dev\\python3\\lib\\site-packages (from openpyxl) (1.1.0)\n",
      "Note: you may need to restart the kernel to use updated packages.\n"
     ]
    },
    {
     "name": "stderr",
     "output_type": "stream",
     "text": [
      "\n",
      "[notice] A new release of pip is available: 24.0 -> 24.2\n",
      "[notice] To update, run: python.exe -m pip install --upgrade pip\n"
     ]
    }
   ],
   "source": [
    "pip install openpyxl"
   ]
  },
  {
   "cell_type": "code",
   "execution_count": 46,
   "metadata": {},
   "outputs": [
    {
     "name": "stdout",
     "output_type": "stream",
     "text": [
      "Requirement already satisfied: pandas in c:\\dev\\python3\\lib\\site-packages (2.2.2)\n",
      "Requirement already satisfied: numpy>=1.26.0 in c:\\dev\\python3\\lib\\site-packages (from pandas) (2.0.1)\n",
      "Requirement already satisfied: python-dateutil>=2.8.2 in c:\\users\\lones\\appdata\\roaming\\python\\python312\\site-packages (from pandas) (2.9.0.post0)\n",
      "Requirement already satisfied: pytz>=2020.1 in c:\\dev\\python3\\lib\\site-packages (from pandas) (2024.1)\n",
      "Requirement already satisfied: tzdata>=2022.7 in c:\\dev\\python3\\lib\\site-packages (from pandas) (2024.1)\n",
      "Requirement already satisfied: six>=1.5 in c:\\users\\lones\\appdata\\roaming\\python\\python312\\site-packages (from python-dateutil>=2.8.2->pandas) (1.16.0)\n",
      "Note: you may need to restart the kernel to use updated packages.\n"
     ]
    },
    {
     "name": "stderr",
     "output_type": "stream",
     "text": [
      "\n",
      "[notice] A new release of pip is available: 24.0 -> 24.2\n",
      "[notice] To update, run: python.exe -m pip install --upgrade pip\n"
     ]
    }
   ],
   "source": [
    "pip install pandas"
   ]
  },
  {
   "cell_type": "code",
   "execution_count": 47,
   "metadata": {},
   "outputs": [
    {
     "name": "stdout",
     "output_type": "stream",
     "text": [
      "Requirement already satisfied: chardet in c:\\dev\\python3\\lib\\site-packages (5.2.0)\n",
      "Note: you may need to restart the kernel to use updated packages.\n"
     ]
    },
    {
     "name": "stderr",
     "output_type": "stream",
     "text": [
      "\n",
      "[notice] A new release of pip is available: 24.0 -> 24.2\n",
      "[notice] To update, run: python.exe -m pip install --upgrade pip\n"
     ]
    }
   ],
   "source": [
    "pip install chardet"
   ]
  },
  {
   "cell_type": "code",
   "execution_count": 48,
   "metadata": {},
   "outputs": [
    {
     "name": "stdout",
     "output_type": "stream",
     "text": [
      "Requirement already satisfied: click in c:\\dev\\python3\\lib\\site-packages (8.1.7)\n",
      "Requirement already satisfied: colorama in c:\\users\\lones\\appdata\\roaming\\python\\python312\\site-packages (from click) (0.4.6)\n",
      "Note: you may need to restart the kernel to use updated packages.\n"
     ]
    },
    {
     "name": "stderr",
     "output_type": "stream",
     "text": [
      "\n",
      "[notice] A new release of pip is available: 24.0 -> 24.2\n",
      "[notice] To update, run: python.exe -m pip install --upgrade pip\n"
     ]
    }
   ],
   "source": [
    "pip install click"
   ]
  },
  {
   "attachments": {},
   "cell_type": "markdown",
   "metadata": {},
   "source": [
    "импорт библиотек"
   ]
  },
  {
   "cell_type": "code",
   "execution_count": 49,
   "metadata": {},
   "outputs": [],
   "source": [
    "import pandas as pd\n",
    "import numpy as np\n",
    "import datetime\n",
    "import click\n",
    "import os"
   ]
  },
  {
   "cell_type": "code",
   "execution_count": 50,
   "metadata": {},
   "outputs": [],
   "source": [
    "from chardet.universaldetector import UniversalDetector\n",
    "\n",
    "detector = UniversalDetector()\n",
    "def get_encode(source_file):\n",
    "\n",
    "    with open(source_file, 'rb') as fh:\n",
    "        for line in fh:\n",
    "            detector.feed(line)\n",
    "            if detector.done:\n",
    "                break\n",
    "        detector.close()\n",
    "    return detector.result['encoding']\n",
    "\n",
    "date = datetime.datetime.now()\n",
    "yesterday = date - datetime.timedelta(days = 1)\n",
    "today = date.strftime('%d-%m-%Y')"
   ]
  },
  {
   "attachments": {},
   "cell_type": "markdown",
   "metadata": {},
   "source": [
    "## Чтение и подготовка источника. "
   ]
  },
  {
   "attachments": {},
   "cell_type": "markdown",
   "metadata": {},
   "source": [
    "### Чтение"
   ]
  },
  {
   "cell_type": "code",
   "execution_count": 51,
   "metadata": {},
   "outputs": [],
   "source": [
    "def ReadSrc(source_list):\n",
    "    for item in source_list:\n",
    "        try:\n",
    "            temp = pd.read_csv(f\"source/{item}\", \n",
    "                            sep=\";\", \n",
    "                            encoding=get_encode(f\"source/{item}\"))\n",
    "        except:\n",
    "            temp = pd.read_excel(f\"source/{item}\", \n",
    "                                usecols=['MSISDN', 'Лицевой счет', 'Статус', 'Тарифный план'])    \n",
    "        if \"Период\" in temp:\n",
    "            temp.dropna(inplace = True, \n",
    "                        subset='Лицевой счет')\n",
    "            temp = temp.astype({'Лицевой счет': 'int64'})\n",
    "            if temp[\"Лицевой счет\"].isin([543079309570]).any():\n",
    "                account_6404 = temp\n",
    "                account_6404.drop([\"ФИО\", \"Период\"], \n",
    "                                axis = 1, \n",
    "                                inplace=True)\n",
    "            elif temp[\"Лицевой счет\"].isin([560022423200]).any():\n",
    "                account_8048 = temp\n",
    "                try:\n",
    "                    account_8048.drop([\"ФИО\", \"Период\"], \n",
    "                                    axis = 1, \n",
    "                                    inplace=True)\n",
    "                except:\n",
    "                    account_8048.drop([\"Период\"], \n",
    "                                    axis = 1, \n",
    "                                    inplace=True)\n",
    "            else:\n",
    "                print(f\"unknown data in {item}\")\n",
    "        elif \"Лицевой счет\" in temp:\n",
    "            temp['MSISDN'] = temp['MSISDN'].fillna(0)\n",
    "            temp = temp.astype({'MSISDN': 'int64'})\n",
    "            crm_data = temp\n",
    "        else:\n",
    "            print(f\"invalid source {item}\")\n",
    "\n",
    "    result = pd.concat([account_6404, account_8048])\n",
    "    result.reset_index(drop=True, inplace=True)\n",
    "    result.dropna(axis = 1, inplace=True)\n",
    "\n",
    "    return [result, crm_data]"
   ]
  },
  {
   "cell_type": "code",
   "execution_count": 52,
   "metadata": {},
   "outputs": [],
   "source": [
    "def ReadYesterdayReport():\n",
    "    try:\n",
    "        flex64 = pd.read_csv(f'{yesterday}/report/Подключить flex64.csv', usecols='MSISDN')['MSISDN'].to_list()\n",
    "        if len(flex64) == 0:\n",
    "            print('flex64:\\n За вчера нет данных\\n\\n')\n",
    "    except:\n",
    "        flex64 = []\n",
    "        print('flex64:\\n За вчера нет данных\\n\\n')\n",
    "    try:\n",
    "        flex512 = pd.read_csv(f'{yesterday}/report/Подключить flex512.csv', usecols='MSISDN')['MSISDN'].to_list()\n",
    "        if len(flex512) == 0:\n",
    "            print('flex512:\\n За вчера нет данных\\n\\n')\n",
    "    except:\n",
    "        flex512 = []\n",
    "        print('flex512:\\n За вчера нет данных\\n\\n')\n",
    "\n",
    "    try:\n",
    "        roaming = pd.read_csv(f'{yesterday}/report/Начисления за роуминг.csv', usecols='Номер')['Номер'].to_list()\n",
    "        if len(flex512) == 0:\n",
    "            print('Роуминг:\\n За вчера нет данных\\n\\n')\n",
    "    except:\n",
    "        roaming = []\n",
    "        print('Роуминг:\\n За вчера нет данных\\n\\n')\n",
    "\n",
    "    try:\n",
    "        limit = pd.read_csv(f'{yesterday}/report/Увеличить лимит.csv', usecols='MSISDN')['MSISDN'].to_list()\n",
    "        if len(limit) == 0:\n",
    "            print('Роуминг:\\n За вчера нет данных\\n\\n')\n",
    "    except:\n",
    "        limit = []\n",
    "        print('Роуминг:\\n За вчера нет данных\\n\\n')\n",
    "\n",
    "    return (flex64, flex512, roaming, limit)"
   ]
  },
  {
   "cell_type": "code",
   "execution_count": 53,
   "metadata": {},
   "outputs": [
    {
     "ename": "UnboundLocalError",
     "evalue": "cannot access local variable 'account_6404' where it is not associated with a value",
     "output_type": "error",
     "traceback": [
      "\u001b[1;31m---------------------------------------------------------------------------\u001b[0m",
      "\u001b[1;31mUnboundLocalError\u001b[0m                         Traceback (most recent call last)",
      "Cell \u001b[1;32mIn[53], line 5\u001b[0m\n\u001b[0;32m      2\u001b[0m os\u001b[39m.\u001b[39mmakedirs(\u001b[39mf\u001b[39m\u001b[39m'\u001b[39m\u001b[39m{\u001b[39;00mtoday\u001b[39m}\u001b[39;00m\u001b[39m/data\u001b[39m\u001b[39m'\u001b[39m, exist_ok\u001b[39m=\u001b[39m\u001b[39mTrue\u001b[39;00m)\n\u001b[0;32m      3\u001b[0m os\u001b[39m.\u001b[39mmakedirs(\u001b[39mf\u001b[39m\u001b[39m'\u001b[39m\u001b[39m{\u001b[39;00mtoday\u001b[39m}\u001b[39;00m\u001b[39m/report\u001b[39m\u001b[39m'\u001b[39m, exist_ok\u001b[39m=\u001b[39m\u001b[39mTrue\u001b[39;00m)\n\u001b[1;32m----> 5\u001b[0m source \u001b[39m=\u001b[39m ReadSrc(source_list)\n\u001b[0;32m      6\u001b[0m temp_data \u001b[39m=\u001b[39m source[\u001b[39m0\u001b[39m]\n\u001b[0;32m      7\u001b[0m crm_data \u001b[39m=\u001b[39m source[\u001b[39m1\u001b[39m]\n",
      "Cell \u001b[1;32mIn[51], line 38\u001b[0m, in \u001b[0;36mReadSrc\u001b[1;34m(source_list)\u001b[0m\n\u001b[0;32m     35\u001b[0m     \u001b[39melse\u001b[39;00m:\n\u001b[0;32m     36\u001b[0m         \u001b[39mprint\u001b[39m(\u001b[39mf\u001b[39m\u001b[39m\"\u001b[39m\u001b[39minvalid source \u001b[39m\u001b[39m{\u001b[39;00mitem\u001b[39m}\u001b[39;00m\u001b[39m\"\u001b[39m)\n\u001b[1;32m---> 38\u001b[0m result \u001b[39m=\u001b[39m pd\u001b[39m.\u001b[39mconcat([account_6404, account_8048])\n\u001b[0;32m     39\u001b[0m result\u001b[39m.\u001b[39mreset_index(drop\u001b[39m=\u001b[39m\u001b[39mTrue\u001b[39;00m, inplace\u001b[39m=\u001b[39m\u001b[39mTrue\u001b[39;00m)\n\u001b[0;32m     40\u001b[0m result\u001b[39m.\u001b[39mdropna(axis \u001b[39m=\u001b[39m \u001b[39m1\u001b[39m, inplace\u001b[39m=\u001b[39m\u001b[39mTrue\u001b[39;00m)\n",
      "\u001b[1;31mUnboundLocalError\u001b[0m: cannot access local variable 'account_6404' where it is not associated with a value"
     ]
    }
   ],
   "source": [
    "source_list = os.listdir(\"source\")\n",
    "os.makedirs(f'{today}/data', exist_ok=True)\n",
    "os.makedirs(f'{today}/report', exist_ok=True)\n",
    "\n",
    "source = ReadSrc(source_list)\n",
    "temp_data = source[0]\n",
    "crm_data = source[1]\n",
    "print('read complete')\n",
    "\n"
   ]
  },
  {
   "attachments": {},
   "cell_type": "markdown",
   "metadata": {},
   "source": [
    "## Предобработка"
   ]
  },
  {
   "cell_type": "code",
   "execution_count": null,
   "metadata": {},
   "outputs": [],
   "source": [
    "to_change = [column for column in temp_data]\n",
    "for i in range(2, len(to_change)):\n",
    "    temp_data[to_change[i]] = temp_data[to_change[i]].str.replace(',', '.')\n",
    "    temp_data[to_change[i]] = pd.to_numeric(temp_data[to_change[i]])\n",
    "\n"
   ]
  },
  {
   "cell_type": "code",
   "execution_count": null,
   "metadata": {},
   "outputs": [],
   "source": [
    "parts = ['+7(', ')', '-']\n",
    "for item in parts:    \n",
    "    temp_data['Номер'] = temp_data['Номер'].str.replace(item, '')\n",
    "\n",
    "temp_data['Номер'] = temp_data['Номер'].astype('int64')"
   ]
  },
  {
   "attachments": {},
   "cell_type": "markdown",
   "metadata": {},
   "source": [
    "### Проверка начислений за роумнг"
   ]
  },
  {
   "cell_type": "code",
   "execution_count": null,
   "metadata": {},
   "outputs": [],
   "source": [
    "roaming_expenses = temp_data.loc[temp_data['Трафик в роуминге'] != 0][['Номер', 'Трафик в роуминге']]\n",
    "roaming_expenses.to_excel(f'{today}/report/Начисления за роуминг.xlsx', index=False)\n",
    "roaming_expenses.to_csv(f'{today}/report/Начисления за роуминг.csv', index=False)\n",
    "print('roaming check complete')"
   ]
  },
  {
   "attachments": {},
   "cell_type": "markdown",
   "metadata": {},
   "source": [
    "### Приведение начислений за трафик к одному столбцу"
   ]
  },
  {
   "cell_type": "code",
   "execution_count": null,
   "metadata": {},
   "outputs": [],
   "source": [
    "temp_data = temp_data.assign(Трафик = temp_data['Трафик в домашнем регионе'] + \n",
    "                            temp_data['Трафик в домашнем филиале'] + \n",
    "                            temp_data['Трафик в роуминге'] + \n",
    "                            temp_data['Трафик по России'])\n",
    "temp_data.drop(['Трафик в домашнем регионе', \n",
    "           'Трафик в роуминге', \n",
    "           'Трафик в домашнем филиале', \n",
    "           'Трафик по России'], \n",
    "           inplace=True, \n",
    "           axis='columns')"
   ]
  },
  {
   "attachments": {},
   "cell_type": "markdown",
   "metadata": {},
   "source": [
    "### Объединение CRM-репорта и подготовленного DF"
   ]
  },
  {
   "cell_type": "code",
   "execution_count": null,
   "metadata": {},
   "outputs": [],
   "source": [
    "temp_data.rename(columns={'Номер' : 'MSISDN', 'Лицевой счет' : 'МФ ЛС'}, inplace=True)\n",
    "data = pd.merge(crm_data, temp_data, on=['MSISDN'], how='left')\n",
    "data = data[['MSISDN', \n",
    "             'Лицевой счет', \n",
    "             'Статус', \n",
    "             'Тарифный план', \n",
    "             'МФ ЛС', \n",
    "             'Всего', \n",
    "             'Абон.плата по ТП', \n",
    "             'Доп.услуги и тарифные опции', \n",
    "             'Разовые начисления', \n",
    "             'Трафик']]\n",
    "data['МФ ЛС'] = data['МФ ЛС'].fillna(0)\n",
    "data = data.astype({'МФ ЛС':'int64'})\n",
    "data.reset_index(drop=True, inplace=True)"
   ]
  },
  {
   "cell_type": "code",
   "execution_count": null,
   "metadata": {},
   "outputs": [],
   "source": [
    "data.to_excel(f'{today}/data/data.xlsx', index=False)\n",
    "data.to_csv(f'{today}/data/data.csv', index=False)"
   ]
  },
  {
   "cell_type": "code",
   "execution_count": null,
   "metadata": {},
   "outputs": [],
   "source": [
    "yesterday_tuple = ReadYesterdayReport()\n",
    "yest_flex64 = yesterday_tuple[0]\n",
    "yest_flex512 = yesterday_tuple[1]\n",
    "yest_roaming = yesterday_tuple[2]\n",
    "yest_limits = yesterday_tuple[3]"
   ]
  },
  {
   "attachments": {},
   "cell_type": "markdown",
   "metadata": {},
   "source": [
    "## Анализ"
   ]
  },
  {
   "attachments": {},
   "cell_type": "markdown",
   "metadata": {},
   "source": [
    "### Проверка лимитов"
   ]
  },
  {
   "attachments": {},
   "cell_type": "markdown",
   "metadata": {},
   "source": [
    "#### Категоризация по дате"
   ]
  },
  {
   "cell_type": "code",
   "execution_count": null,
   "metadata": {},
   "outputs": [],
   "source": [
    "if date.day >= 0 and date.day <= 9:\n",
    "    category_base = 70\n",
    "    category_boost = 150\n",
    "    category_special = 100\n",
    "elif date.day >= 10 and date.day <= 19:\n",
    "    category_base = 90\n",
    "    category_boost = 200\n",
    "    category_special = 100\n",
    "elif date.day >= 20 and date.day <= 31:\n",
    "    category_base = 120\n",
    "    category_boost = 250\n",
    "    category_special = 130"
   ]
  },
  {
   "attachments": {},
   "cell_type": "markdown",
   "metadata": {},
   "source": [
    "#### Проверка начислений за трафик для подключения flex64"
   ]
  },
  {
   "cell_type": "code",
   "execution_count": null,
   "metadata": {},
   "outputs": [],
   "source": [
    "flex64 = data.loc[data['Тарифный план'].isin(['Зеленый Базовый', \n",
    "                                              'Зеленый Базовый.', \n",
    "                                              'Зеленый Классический', \n",
    "                                              'Зеленый Классический.', \n",
    "                                              'Зенит',\n",
    "                                              'Зенит.'])]\n",
    "flex64.reset_index(drop=True, inplace=True)\n",
    "\n",
    "flex64 = flex64.loc[((flex64['Тарифный план'] != 'Зенит') & \n",
    "                        ((flex64['МФ ЛС'].isin([543079309570, 560022423200]) & (flex64['Трафик'] >= category_special)) | \n",
    "                        (~flex64['МФ ЛС'].isin([543079309570, 560022423200]) & (flex64['Трафик'] >= category_base))))  |\n",
    "                    ((flex64['Тарифный план'] == 'Зенит') &\n",
    "                        ((flex64['МФ ЛС'].isin([543079309570, 560022423200]) & (flex64['Трафик'] >= category_special)) | \n",
    "                        (~flex64['МФ ЛС'].isin([543079309570, 560022423200]) & (flex64['Трафик'] >= category_boost)))) ]\n",
    "flex64 = flex64.loc[~flex64['MSISDN'].isin[yest_flex64]]\n",
    "\n",
    "flex64.to_excel(f'{today}/report/Подключить flex64.xlsx', index=False)\n",
    "flex64.to_csv(f'{today}/report/Подключить flex64.csv', index=False)\n",
    "print('flex64 complete')"
   ]
  },
  {
   "attachments": {},
   "cell_type": "markdown",
   "metadata": {},
   "source": [
    "#### Проверка начислений за трафик для подключения flex512"
   ]
  },
  {
   "cell_type": "code",
   "execution_count": null,
   "metadata": {},
   "outputs": [],
   "source": [
    "flex512 = data.loc[data['Тарифный план'].isin(['Зеленый Ускоренный', \n",
    "                                              'Зеленый Ускоренный.', \n",
    "                                              'POS-Kassa Зеленый'])]\n",
    "flex512.reset_index(drop=True, inplace=True)\n",
    "flex512 = flex512.loc[((flex512['МФ ЛС'].isin([543079309570, 560022423200]) & (flex512['Трафик'] >= category_special)) | \n",
    "                   (~flex512['МФ ЛС'].isin([543079309570, 560022423200]) & (flex512['Трафик'] >= category_boost)))]\n",
    "flex512 = flex512.loc[~flex512['MSISDN'].isin(yest_flex512)]\n",
    "\n",
    "flex512.to_excel(f'{today}/report/Подключить flex512.xlsx', index=False)\n",
    "flex512.to_csv(f'{today}/report/Подключить flex512.csv', index=False)\n",
    "print('iot70 complete')"
   ]
  },
  {
   "attachments": {},
   "cell_type": "markdown",
   "metadata": {},
   "source": [
    "#### Проверка лимитов"
   ]
  },
  {
   "cell_type": "code",
   "execution_count": null,
   "metadata": {},
   "outputs": [],
   "source": [
    "limit800 = data.loc[data['Всего'] >= 780]\n",
    "limit800.to_excel(f'{today}/report/Увеличить лимит.xlsx', index=False)\n",
    "limit800.to_csv(f'{today}/report/Увеличить лимит.csv', index=False)\n",
    "print('limits complete')"
   ]
  },
  {
   "cell_type": "code",
   "execution_count": null,
   "metadata": {},
   "outputs": [],
   "source": [
    "click.pause('Готово. Нажми любую кнопку, чтобы закрыть это окно')"
   ]
  }
 ],
 "metadata": {
  "kernelspec": {
   "display_name": "Python 3",
   "language": "python",
   "name": "python3"
  },
  "language_info": {
   "codemirror_mode": {
    "name": "ipython",
    "version": 3
   },
   "file_extension": ".py",
   "mimetype": "text/x-python",
   "name": "python",
   "nbconvert_exporter": "python",
   "pygments_lexer": "ipython3",
   "version": "3.12.4"
  },
  "orig_nbformat": 4
 },
 "nbformat": 4,
 "nbformat_minor": 2
}
